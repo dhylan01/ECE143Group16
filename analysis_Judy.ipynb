{
 "cells": [
  {
   "cell_type": "markdown",
   "metadata": {},
   "source": [
    "# Interactive Dashboard -- State-wise visualization\n",
    "\n",
    "In this analysis section, we virtualized the state-wise data by an interactive dashboard."
   ]
  },
  {
   "cell_type": "code",
   "execution_count": null,
   "metadata": {},
   "outputs": [],
   "source": [
    "import pandas as pd\n",
    "\n",
    "def load_and_preprocess_data(file_path):\n",
    "    \"\"\"\n",
    "    Load and preprocess the gun violence dataset.\n",
    "\n",
    "    Parameters:\n",
    "        file_path (str): Path to the CSV file containing the gun violence data.\n",
    "\n",
    "    Returns:\n",
    "        pd.DataFrame: Preprocessed DataFrame with 'Incident Date' as datetime and 'Year' extracted.\n",
    "    \"\"\"\n",
    "    # Load the dataset\n",
    "    data = pd.read_csv(file_path)\n",
    "    \n",
    "    # Convert 'Incident Date' to datetime\n",
    "    data['Incident Date'] = pd.to_datetime(data['Incident Date'], errors='coerce')\n",
    "    \n",
    "    # Extract the year from the 'Incident Date'\n",
    "    data['Year'] = data['Incident Date'].dt.year\n",
    "    \n",
    "    return data"
   ]
  },
  {
   "cell_type": "markdown",
   "metadata": {},
   "source": [
    "Define the layout of the Dashboard. It structures the dashboard's interface: a dropdown for state selection and placeholders for statistic about each state and bar plots visualizing incidents by year, day of the week, and month."
   ]
  },
  {
   "cell_type": "code",
   "execution_count": null,
   "metadata": {},
   "outputs": [],
   "source": [
    "from dash import dcc, html\n",
    "\n",
    "def create_app_layout(states):\n",
    "    \"\"\"\n",
    "    Create the layout for the Dash application.\n",
    "\n",
    "    Parameters:\n",
    "        states (list): List of state names for the dropdown menu.\n",
    "\n",
    "    Returns:\n",
    "        html.Div: Dash application layout.\n",
    "    \"\"\"\n",
    "    return html.Div([\n",
    "        html.Div([\n",
    "            # Dropdown for selecting a state\n",
    "            dcc.Dropdown(\n",
    "                id='state-dropdown',\n",
    "                options=[{'label': state, 'value': state} for state in states],\n",
    "                value=states[0],  # Default to the first state in the list\n",
    "            ),\n",
    "            html.Div(id='selected-state-output')\n",
    "        ]),\n",
    "        html.Div(id='state-statistics', style={'marginTop': '20px'}),\n",
    "        html.Div([\n",
    "            dcc.Graph(id='bar-plot-by-year'),\n",
    "            dcc.Graph(id='bar-plot-by-week'),\n",
    "            dcc.Graph(id='bar-plot-by-month')\n",
    "        ])\n",
    "    ])\n",
    "\n"
   ]
  },
  {
   "cell_type": "markdown",
   "metadata": {},
   "source": [
    "Dynamically when a user selects a state from the dropdown and use *Plotly* to generate figures for yearly, weekly, and monthly incidents based on the selected state."
   ]
  },
  {
   "cell_type": "code",
   "execution_count": null,
   "metadata": {},
   "outputs": [],
   "source": [
    "import plotly.express as px\n",
    "from dash.dependencies import Input, Output\n",
    "from dash import html\n",
    "\n",
    "def register_callbacks(app, data):\n",
    "    \"\"\"\n",
    "    Register callbacks for the Dash app to update plots and statistics based on selected state.\n",
    "\n",
    "    Parameters:\n",
    "        app (dash.Dash): Dash application instance.\n",
    "        data (pd.DataFrame): Gun violence dataset.\n",
    "    \"\"\"\n",
    "    @app.callback(\n",
    "        [Output(\"bar-plot-by-year\", 'figure'),\n",
    "         Output('bar-plot-by-week', 'figure'),\n",
    "         Output('bar-plot-by-month', 'figure'),\n",
    "         Output('state-statistics', 'children')],\n",
    "        [Input('state-dropdown', 'value')]\n",
    "    )\n",
    "    def update_plots_and_stats(selected_state):\n",
    "        \"\"\"\n",
    "        Update bar plots and statistics based on the selected state.\n",
    "\n",
    "        Parameters:\n",
    "            selected_state (str): State selected from the dropdown menu.\n",
    "\n",
    "        Returns:\n",
    "            tuple: Updated figures for year, week, month plots, and state-level statistics.\n",
    "        \"\"\"\n",
    "        # Filter the data based on the selected state\n",
    "        state_data = data[data['State'] == selected_state]\n",
    "\n",
    "        # Yearly incidents\n",
    "        yearly_incidents = state_data['Year'].value_counts().reset_index()\n",
    "        yearly_incidents.columns = ['Year', 'Incidents']\n",
    "        yearly_incidents = yearly_incidents.sort_values('Year')\n",
    "        year_fig = px.bar(yearly_incidents, x='Year', y='Incidents', title=f'Gun Violence Incidents by Year in {selected_state}')\n",
    "\n",
    "        # Weekly incidents\n",
    "        incidents_by_day = state_data['Incident Date'].dt.day_name().value_counts().sort_index().reset_index()\n",
    "        incidents_by_day.columns = ['Day of Week', 'Number of Incidents']\n",
    "        week_fig = px.bar(incidents_by_day, x='Day of Week', y='Number of Incidents', title=f'Gun Violence Incidents by Day of Week in {selected_state}')\n",
    "\n",
    "        # Monthly incidents\n",
    "        incidents_by_month = state_data['Incident Date'].dt.month_name().value_counts().sort_index().reset_index()\n",
    "        incidents_by_month.columns = ['Month', 'Number of Incidents']\n",
    "        month_fig = px.bar(incidents_by_month, x='Month', y='Number of Incidents', title=f'Gun Violence Incidents by Month in {selected_state}')\n",
    "\n",
    "        # State-level statistics\n",
    "        total_accidents = len(state_data)\n",
    "        total_deaths = state_data['Victims Killed'].sum()\n",
    "        total_victims = state_data[['Victims Killed', 'Victims Injured']].sum().sum()\n",
    "\n",
    "        state_stats = html.Div([\n",
    "            html.P(f\"Total Accidents: {total_accidents}\"),\n",
    "            html.P(f\"Total Deaths: {total_deaths}\"),\n",
    "            html.P(f\"Total Victims: {total_victims}\")\n",
    "        ])\n",
    "\n",
    "        return year_fig, week_fig, month_fig, state_stats\n"
   ]
  },
  {
   "cell_type": "markdown",
   "metadata": {},
   "source": [
    "This is the main driver script for running the interactive dashboard. It can:\n",
    "- Initialize the Dash app.\n",
    "- Load and preprocesses data using data_processing.py.\n",
    "- Set the app layout using layout.py.\n",
    "- Register callbacks using callback.py.\n",
    "- Run the app server."
   ]
  },
  {
   "cell_type": "code",
   "execution_count": 1,
   "metadata": {},
   "outputs": [
    {
     "data": {
      "text/html": [
       "\n",
       "        <iframe\n",
       "            width=\"100%\"\n",
       "            height=\"650\"\n",
       "            src=\"http://127.0.0.1:8050/\"\n",
       "            frameborder=\"0\"\n",
       "            allowfullscreen\n",
       "            \n",
       "        ></iframe>\n",
       "        "
      ],
      "text/plain": [
       "<IPython.lib.display.IFrame at 0x11fe5f020>"
      ]
     },
     "metadata": {},
     "output_type": "display_data"
    }
   ],
   "source": [
    "from dash import Dash\n",
    "from file_loading import load_and_preprocess_data\n",
    "from dash_layout import create_app_layout\n",
    "from callbacks import register_callbacks\n",
    "\n",
    "# Initialize the Dash app\n",
    "app = Dash(__name__)\n",
    "\n",
    "# Load and preprocess the data\n",
    "file_path = 'ProcessedGunData.csv'  # Replace with the actual path\n",
    "data = load_and_preprocess_data(file_path)\n",
    "\n",
    "# Set up the app layout\n",
    "app.layout = create_app_layout(data['State'].unique())\n",
    "\n",
    "# Register callbacks\n",
    "register_callbacks(app, data)\n",
    "\n",
    "# Run the app\n",
    "if __name__ == '__main__':\n",
    "    \"\"\"\n",
    "    Run the Dash app server in debug mode.\n",
    "\n",
    "    Usage:\n",
    "        Execute this script to launch the Dash app. Ensure the dataset file is \n",
    "        accessible at the specified file path.\n",
    "    \"\"\"\n",
    "    app.run_server(debug=True)"
   ]
  }
 ],
 "metadata": {
  "kernelspec": {
   "display_name": "base",
   "language": "python",
   "name": "python3"
  },
  "language_info": {
   "codemirror_mode": {
    "name": "ipython",
    "version": 3
   },
   "file_extension": ".py",
   "mimetype": "text/x-python",
   "name": "python",
   "nbconvert_exporter": "python",
   "pygments_lexer": "ipython3",
   "version": "3.12.2"
  }
 },
 "nbformat": 4,
 "nbformat_minor": 2
}
